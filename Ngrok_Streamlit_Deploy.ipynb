{
  "nbformat": 4,
  "nbformat_minor": 0,
  "metadata": {
    "colab": {
      "name": "Ngrok_Streamlit_Deploy.ipynb",
      "provenance": [],
      "collapsed_sections": []
    },
    "kernelspec": {
      "name": "python3",
      "display_name": "Python 3"
    },
    "language_info": {
      "name": "python"
    }
  },
  "cells": [
    {
      "cell_type": "markdown",
      "metadata": {
        "id": "6iDkS7lyjovg"
      },
      "source": [
        "Requirements"
      ]
    },
    {
      "cell_type": "code",
      "metadata": {
        "id": "vEdrLa-xIW9j",
        "colab": {
          "base_uri": "https://localhost:8080/"
        },
        "outputId": "f9fc9121-f4a6-44bd-a72e-528c9389f674"
      },
      "source": [
        "#!pip install -U ipykernel\n",
        "!pip install -q streamlit\n",
        "!pip install pyngrok"
      ],
      "execution_count": null,
      "outputs": [
        {
          "output_type": "stream",
          "text": [
            "\u001b[K     |████████████████████████████████| 8.2MB 6.5MB/s \n",
            "\u001b[K     |████████████████████████████████| 112kB 41.8MB/s \n",
            "\u001b[K     |████████████████████████████████| 163kB 40.5MB/s \n",
            "\u001b[K     |████████████████████████████████| 81kB 8.2MB/s \n",
            "\u001b[K     |████████████████████████████████| 4.2MB 35.4MB/s \n",
            "\u001b[K     |████████████████████████████████| 71kB 7.6MB/s \n",
            "\u001b[K     |████████████████████████████████| 122kB 42.6MB/s \n",
            "\u001b[?25h  Building wheel for blinker (setup.py) ... \u001b[?25l\u001b[?25hdone\n",
            "\u001b[31mERROR: google-colab 1.0.0 has requirement ipykernel~=4.10, but you'll have ipykernel 5.5.4 which is incompatible.\u001b[0m\n",
            "Collecting pyngrok\n",
            "\u001b[?25l  Downloading https://files.pythonhosted.org/packages/6b/4e/a2fe095bbe17cf26424c4abcd22a0490e22d01cc628f25af5e220ddbf6f0/pyngrok-5.0.5.tar.gz (745kB)\n",
            "\u001b[K     |████████████████████████████████| 747kB 5.3MB/s \n",
            "\u001b[?25hRequirement already satisfied: PyYAML in /usr/local/lib/python3.7/dist-packages (from pyngrok) (3.13)\n",
            "Building wheels for collected packages: pyngrok\n",
            "  Building wheel for pyngrok (setup.py) ... \u001b[?25l\u001b[?25hdone\n",
            "  Created wheel for pyngrok: filename=pyngrok-5.0.5-cp37-none-any.whl size=19246 sha256=94b6db3a17b7530032557d0baf4eab93c45c32c7cc4d9d5d81987b8e47973af9\n",
            "  Stored in directory: /root/.cache/pip/wheels/0c/13/64/5ebbcc22eaf53fdf5766b397c1fb17c83f5775fdccf0ea1b88\n",
            "Successfully built pyngrok\n",
            "Installing collected packages: pyngrok\n",
            "Successfully installed pyngrok-5.0.5\n"
          ],
          "name": "stdout"
        }
      ]
    },
    {
      "cell_type": "markdown",
      "metadata": {
        "id": "R-CrUHDFhyQu"
      },
      "source": [
        "Download of the Keras model"
      ]
    },
    {
      "cell_type": "code",
      "metadata": {
        "colab": {
          "base_uri": "https://localhost:8080/"
        },
        "id": "HFWZ99FdUkEu",
        "outputId": "8b621924-287b-4f99-9154-0dac2da5969a"
      },
      "source": [
        "!curl -L \"https://api.jl-workshop.com/v2/csdlg/download?h=1ae6bd0bb4&url=https%3A%2F%2Fwww.mediafire.com%2Ffile%2F26ld1azugwf4sr0%2Fvgg16_model_final.zip%2Ffile\" > dataset.zip; unzip dataset.zip; rm dataset.zip\n"
      ],
      "execution_count": null,
      "outputs": [
        {
          "output_type": "stream",
          "text": [
            "  % Total    % Received % Xferd  Average Speed   Time    Time     Time  Current\n",
            "                                 Dload  Upload   Total   Spent    Left  Speed\n",
            "100   182  100   182    0     0   1978      0 --:--:-- --:--:-- --:--:--  1978\n",
            "100   121  100   121    0     0    102      0  0:00:01  0:00:01 --:--:--   111\n",
            "100 52.7M  100 52.7M    0     0  16.8M      0  0:00:03  0:00:03 --:--:-- 38.0M\n",
            "Archive:  dataset.zip\n",
            "  inflating: vgg16_model_final.h5    \n"
          ],
          "name": "stdout"
        }
      ]
    },
    {
      "cell_type": "markdown",
      "metadata": {
        "id": "5yI9O3nXjvdj"
      },
      "source": [
        "Streamlit application saved as UniverseClassifier.py"
      ]
    },
    {
      "cell_type": "code",
      "metadata": {
        "id": "T2oZ7e_uJ2mp",
        "colab": {
          "base_uri": "https://localhost:8080/"
        },
        "outputId": "d4a18f79-8cae-4183-f343-db0f79eb2add"
      },
      "source": [
        "%%writefile UniverseClassifier.py\n",
        "\n",
        "import tensorflow as tf\n",
        "import numpy as np\n",
        "import streamlit as st\n",
        "from PIL import Image\n",
        "import requests\n",
        "from io import BytesIO\n",
        "\n",
        "#st.set_option( 'deprecation. showfileuploaderEncoding', False)\n",
        "st.title(\"Universe Image Classifier\")\n",
        "st.text(\"Provide URL of Image for image classification\")\n",
        "st.text(\"The system detects if the image contains one of these classes: Galaxy, Nebula, Planet\")\n",
        "\n",
        "@st.cache(allow_output_mutation=True) \n",
        "def load_model():\n",
        "  model = tf.keras.models.load_model('/content/vgg16_model_final.h5')\n",
        "  return model\n",
        "\n",
        "with st.spinner('Loading Model Into Memory....'):\n",
        "  model = load_model()\n",
        "\n",
        "classes=['Galaxy', 'Nebula', 'Planet', '404 Not found']\n",
        "\n",
        "def scale(image):\n",
        "  image = tf.cast(image, tf.float32)\n",
        "  image /= 255.0\n",
        "  return tf.image.resize(image, [224,224])\n",
        "\n",
        "def decode_img(image):\n",
        "  img = tf.image.decode_jpeg(image, channels=3)\n",
        "  img = scale(img)\n",
        "  return np.expand_dims(img, axis=0)\n",
        "\n",
        "path = st.text_input('Enter Image URL to Classify... (format preferred is like the example URL in .jpg or .png)', 'https://solarsystem.nasa.gov/system/stellar_items/list_view_images/6_mars_480x320.jpg')\n",
        "\n",
        "if path is not None:\n",
        "  content = requests.get(path).content\n",
        "\n",
        "  st.write(\"Predicted Class :\") \n",
        "  with st.spinner('classifying.....'):\n",
        "    label =np.argmax(model.predict(decode_img(content) ), axis=1)\n",
        "    st.write(classes [label[0]]) \n",
        "  st.write(\"\")\n",
        "\n",
        "  image = Image.open(BytesIO(content))\n",
        "  st.image(image, use_column_width=True)\n"
      ],
      "execution_count": null,
      "outputs": [
        {
          "output_type": "stream",
          "text": [
            "Writing UniverseClassifier.py\n"
          ],
          "name": "stdout"
        }
      ]
    },
    {
      "cell_type": "markdown",
      "metadata": {
        "id": "wR3uyhmQjiAw"
      },
      "source": [
        "Ngrok token"
      ]
    },
    {
      "cell_type": "code",
      "metadata": {
        "id": "YdIiIV_1IoR_",
        "colab": {
          "base_uri": "https://localhost:8080/"
        },
        "outputId": "f2e9ee20-1f6b-467c-8500-130aad3aabab"
      },
      "source": [
        "! ngrok authtoken 1s8DDstioR58vDNh3wpi8aAQv6s_7VrZRQ5mqnnWr86VkAa6o"
      ],
      "execution_count": null,
      "outputs": [
        {
          "output_type": "stream",
          "text": [
            "Authtoken saved to configuration file: /root/.ngrok2/ngrok.yml\n"
          ],
          "name": "stdout"
        }
      ]
    },
    {
      "cell_type": "markdown",
      "metadata": {
        "id": "wIhQ1oejkVC0"
      },
      "source": [
        "Using ngrok to expose the app to the internet with a public url"
      ]
    },
    {
      "cell_type": "code",
      "metadata": {
        "id": "y_-t6nl-MC4A",
        "colab": {
          "base_uri": "https://localhost:8080/"
        },
        "outputId": "f2fdf245-a8ba-4c88-e331-b1fd3f7854a3"
      },
      "source": [
        "from pyngrok import ngrok\n",
        "\n",
        "url = ngrok.connect(port=8501)\n",
        "url"
      ],
      "execution_count": null,
      "outputs": [
        {
          "output_type": "execute_result",
          "data": {
            "text/plain": [
              "<NgrokTunnel: \"http://2bf3bb8c4a22.ngrok.io\" -> \"http://localhost:80\">"
            ]
          },
          "metadata": {
            "tags": []
          },
          "execution_count": 5
        }
      ]
    },
    {
      "cell_type": "markdown",
      "metadata": {
        "id": "7ET-T9FElN-e"
      },
      "source": [
        "Running Streamlit app"
      ]
    },
    {
      "cell_type": "code",
      "metadata": {
        "id": "MFu7dhmkQThh",
        "colab": {
          "base_uri": "https://localhost:8080/"
        },
        "outputId": "74e16f2d-6da1-4a81-b08c-e63187271265"
      },
      "source": [
        "!streamlit run --server.port 80 UniverseClassifier.py >/dev/null"
      ],
      "execution_count": null,
      "outputs": [
        {
          "output_type": "stream",
          "text": [
            "2021-05-06 16:56:07.016 An update to the [server] config option section was detected. To have these changes be reflected, please restart streamlit.\n",
            "2021-05-06 16:56:07.402081: I tensorflow/stream_executor/platform/default/dso_loader.cc:49] Successfully opened dynamic library libcudart.so.11.0\n",
            "2021-05-06 16:56:09.420631: I tensorflow/compiler/jit/xla_cpu_device.cc:41] Not creating XLA devices, tf_xla_enable_xla_devices not set\n",
            "2021-05-06 16:56:09.475703: I tensorflow/stream_executor/platform/default/dso_loader.cc:49] Successfully opened dynamic library libcuda.so.1\n",
            "2021-05-06 16:56:09.559884: E tensorflow/stream_executor/cuda/cuda_driver.cc:328] failed call to cuInit: CUDA_ERROR_NO_DEVICE: no CUDA-capable device is detected\n",
            "2021-05-06 16:56:09.559958: I tensorflow/stream_executor/cuda/cuda_diagnostics.cc:156] kernel driver does not appear to be running on this host (7f7c25af1da3): /proc/driver/nvidia/version does not exist\n",
            "2021-05-06 16:56:09.561451: I tensorflow/compiler/jit/xla_gpu_device.cc:99] Not creating XLA devices, tf_xla_enable_xla_devices not set\n",
            "2021-05-06 16:56:10.538064: I tensorflow/compiler/mlir/mlir_graph_optimization_pass.cc:116] None of the MLIR optimization passes are enabled (registered 2)\n",
            "2021-05-06 16:56:10.554986: I tensorflow/core/platform/profile_utils/cpu_utils.cc:112] CPU Frequency: 2300000000 Hz\n"
          ],
          "name": "stdout"
        }
      ]
    }
  ]
}